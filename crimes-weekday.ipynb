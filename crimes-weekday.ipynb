{
 "cells": [
  {
   "cell_type": "markdown",
   "metadata": {},
   "source": [
    "# More Crimes are Reported on Weekdays\n",
    "\n",
    "This submission takes a look at the Seattle dataset. \n",
    "As a first step it is usually a good idea to have a look at the dataset."
   ]
  },
  {
   "cell_type": "code",
   "execution_count": null,
   "metadata": {
    "collapsed": true
   },
   "outputs": [],
   "source": [
    "# import the neccessary tools\n",
    "import numpy as np\n",
    "import pandas as pd\n",
    "from bokeh.plotting import figure, show, output_notebook\n",
    "from bokeh.charts import Bar, Histogram\n",
    "import datetime"
   ]
  },
  {
   "cell_type": "code",
   "execution_count": null,
   "metadata": {
    "collapsed": false
   },
   "outputs": [],
   "source": [
    "# use pandas `read_csv` function to load the csv into a DataFrame\n",
    "crime = pd.read_csv(\"seattle_incidents_summer_2014.csv\")\n",
    "# just ignore the warning for now"
   ]
  },
  {
   "cell_type": "code",
   "execution_count": null,
   "metadata": {
    "collapsed": false
   },
   "outputs": [],
   "source": [
    "# the first five colums of the DataFrame\n",
    "crime.head(5)"
   ]
  },
  {
   "cell_type": "markdown",
   "metadata": {},
   "source": [
    "## Dates\n",
    "\n",
    "There are three columns with dates: `Date Reported`, `Occured Date or Date Range Start` and `Occured Date Range End`. For the sake of simplicity the `Occured Date Range End` Column will be ignored for now, thereby treating all events as a single point in time. \n",
    "\n",
    "Next, we will look at the `Date Reported` and `Occured Date or Date Range Start`.\n"
   ]
  },
  {
   "cell_type": "code",
   "execution_count": null,
   "metadata": {
    "collapsed": true
   },
   "outputs": [],
   "source": [
    "# extract the column, convert the string representation of the dates to datetime.datetime objects and get the weekday\n",
    "day_reported = len(crime[\"Date Reported\"]) * [7]\n",
    "for n in range(0, len(crime[\"Date Reported\"])):\n",
    "    day_reported[n]=datetime.datetime.strptime(crime[\"Date Reported\"][n], '%m/%d/%Y %H:%M:%S %p').weekday()\n"
   ]
  },
  {
   "cell_type": "code",
   "execution_count": null,
   "metadata": {
    "collapsed": false
   },
   "outputs": [],
   "source": [
    "\n",
    "df = pd.DataFrame({'reported': pd.Series(day_reported)})\n",
    "plot = Bar(df, 'reported', values='reported', agg='count', title='crimes reported by weekday (monday = 0, sunday = 6)', xlabel='weekday', ylabel='number of crimes reported')\n",
    "output_notebook()\n",
    "show(plot)"
   ]
  },
  {
   "cell_type": "markdown",
   "metadata": {},
   "source": [
    "It looks as if fewer crimes are reported over the weekends. Why could that be? Do criminals have weekends too and commit more crimes during the week? Do people rather enjoy the weekend and wait until monday to report a crime? Who knows. In any case, more analysis would be required to determine if there is a statistical effect, and if so, if that effect is significant. But that is out of scope of this assignment.\n",
    "Instead, let's do the same for the `Occured Date or Date Range Start` column."
   ]
  },
  {
   "cell_type": "code",
   "execution_count": null,
   "metadata": {
    "collapsed": false
   },
   "outputs": [],
   "source": [
    "occured = crime[\"Occurred Date or Date Range Start\"]\n",
    "occured_day = len(occured) * [7]\n",
    "for n in range(0, len(committed)):\n",
    "    occured_day[n]=datetime.datetime.strptime(occured[n], '%m/%d/%Y %H:%M:%S %p').weekday()\n",
    "df = pd.DataFrame({'occured': pd.Series(occured_day)})\n",
    "plot = Bar(df, 'occured', values='occured', agg='count', title='crimes committed by weekday (monday = 0, sunday = 6)', xlabel='weekday',ylabel='number of crimes committed')\n",
    "show(plot)"
   ]
  },
  {
   "cell_type": "markdown",
   "metadata": {},
   "source": [
    "The pattern from the `Date Reported` column (if there was one) does not seem to repeat itself here."
   ]
  },
  {
   "cell_type": "code",
   "execution_count": null,
   "metadata": {
    "collapsed": true
   },
   "outputs": [],
   "source": []
  }
 ],
 "metadata": {
  "kernelspec": {
   "display_name": "Python 2",
   "language": "python",
   "name": "python2"
  },
  "language_info": {
   "codemirror_mode": {
    "name": "ipython",
    "version": 2
   },
   "file_extension": ".py",
   "mimetype": "text/x-python",
   "name": "python",
   "nbconvert_exporter": "python",
   "pygments_lexer": "ipython2",
   "version": "2.7.11"
  }
 },
 "nbformat": 4,
 "nbformat_minor": 0
}
